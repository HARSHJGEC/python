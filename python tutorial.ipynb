{
 "cells": [
  {
   "cell_type": "markdown",
   "id": "ee22197c",
   "metadata": {},
   "source": [
    "## Intro to Python \n",
    "Let's start the python"
   ]
  },
  {
   "cell_type": "markdown",
   "id": "9981d234",
   "metadata": {},
   "source": [
    "### Print HelloWorld!!"
   ]
  },
  {
   "cell_type": "code",
   "execution_count": 4,
   "id": "c924248e",
   "metadata": {},
   "outputs": [
    {
     "name": "stdout",
     "output_type": "stream",
     "text": [
      "HelloWorld!\n",
      "Starting my career now\n",
      "Don't look back\n"
     ]
    }
   ],
   "source": [
    "print(\"HelloWorld!\")\n",
    "print(\"Starting my career now\")\n",
    "print(\"Don't look back\")"
   ]
  },
  {
   "cell_type": "markdown",
   "id": "f5b0bb67",
   "metadata": {},
   "source": [
    "### Variable"
   ]
  },
  {
   "cell_type": "code",
   "execution_count": 6,
   "id": "63776a07",
   "metadata": {},
   "outputs": [
    {
     "data": {
      "text/plain": [
       "22"
      ]
     },
     "execution_count": 6,
     "metadata": {},
     "output_type": "execute_result"
    }
   ],
   "source": [
    "a=10\n",
    "b=12\n",
    "a+b"
   ]
  },
  {
   "cell_type": "markdown",
   "id": "f73a814a",
   "metadata": {},
   "source": [
    "### Assigning variable with different data types"
   ]
  },
  {
   "cell_type": "code",
   "execution_count": 7,
   "id": "9684ae98",
   "metadata": {},
   "outputs": [
    {
     "data": {
      "text/plain": [
       "'JGEC'"
      ]
     },
     "execution_count": 7,
     "metadata": {},
     "output_type": "execute_result"
    }
   ],
   "source": [
    "a=10\n",
    "a=20\n",
    "a=\"JGEC\"\n",
    "a"
   ]
  },
  {
   "cell_type": "code",
   "execution_count": 10,
   "id": "504b56a7",
   "metadata": {},
   "outputs": [
    {
     "name": "stdout",
     "output_type": "stream",
     "text": [
      "<class 'int'>\n",
      "<class 'int'>\n"
     ]
    }
   ],
   "source": [
    "print(type(a))\n",
    "a=20\n",
    "print(type(b))"
   ]
  },
  {
   "cell_type": "markdown",
   "id": "6d0cdc65",
   "metadata": {},
   "source": [
    "### Python Numbers"
   ]
  },
  {
   "cell_type": "code",
   "execution_count": 11,
   "id": "60655020",
   "metadata": {},
   "outputs": [
    {
     "name": "stdout",
     "output_type": "stream",
     "text": [
      "<class 'int'>\n",
      "<class 'float'>\n",
      "<class 'complex'>\n"
     ]
    }
   ],
   "source": [
    "a1=10\n",
    "a2=3.4\n",
    "a3=4+5j\n",
    "print(type(a1))\n",
    "print(type(a2))\n",
    "print(type(a3))"
   ]
  },
  {
   "cell_type": "code",
   "execution_count": 14,
   "id": "ac029203",
   "metadata": {},
   "outputs": [
    {
     "name": "stdout",
     "output_type": "stream",
     "text": [
      "2995549438480\n",
      "2995549438512\n"
     ]
    },
    {
     "data": {
      "text/plain": [
       "11"
      ]
     },
     "execution_count": 14,
     "metadata": {},
     "output_type": "execute_result"
    }
   ],
   "source": [
    "a=10\n",
    "print(id(a))\n",
    "a=a+1\n",
    "print(id(a))\n",
    "a"
   ]
  },
  {
   "cell_type": "markdown",
   "id": "43a85744",
   "metadata": {},
   "source": [
    "Two variable pointing to same number between [-5,256] will point to same storage"
   ]
  },
  {
   "cell_type": "code",
   "execution_count": 15,
   "id": "17324768",
   "metadata": {},
   "outputs": [
    {
     "name": "stdout",
     "output_type": "stream",
     "text": [
      "2995549438480\n",
      "2995549438480\n"
     ]
    }
   ],
   "source": [
    "a=10\n",
    "print(id(a))\n",
    "b=10\n",
    "print(id(b))"
   ]
  },
  {
   "cell_type": "markdown",
   "id": "9021c476",
   "metadata": {},
   "source": [
    "Experiment"
   ]
  },
  {
   "cell_type": "code",
   "execution_count": 20,
   "id": "0a2dc7b4",
   "metadata": {},
   "outputs": [
    {
     "name": "stdout",
     "output_type": "stream",
     "text": [
      "2995649434608\n",
      "2995649441232\n",
      "a= \n",
      "1001\n",
      "2995630206384\n"
     ]
    }
   ],
   "source": [
    "a=1000\n",
    "print(id(a))\n",
    "b=1001\n",
    "print(id(b))\n",
    "a=a+1\n",
    "print(\"a= \")\n",
    "print(a)\n",
    "print(id(a))"
   ]
  },
  {
   "cell_type": "markdown",
   "id": "0828f29f",
   "metadata": {},
   "source": [
    "### Arithmetic Operators"
   ]
  },
  {
   "cell_type": "code",
   "execution_count": 1,
   "id": "ec53b0eb",
   "metadata": {},
   "outputs": [
    {
     "name": "stdout",
     "output_type": "stream",
     "text": [
      "14\n",
      "6\n"
     ]
    }
   ],
   "source": [
    "a=10\n",
    "b=4\n",
    "print(a+b)\n",
    "print(a-b)"
   ]
  },
  {
   "cell_type": "code",
   "execution_count": 2,
   "id": "7188965e",
   "metadata": {},
   "outputs": [
    {
     "data": {
      "text/plain": [
       "40"
      ]
     },
     "execution_count": 2,
     "metadata": {},
     "output_type": "execute_result"
    }
   ],
   "source": [
    "a*b"
   ]
  },
  {
   "cell_type": "code",
   "execution_count": 3,
   "id": "8ee6b865",
   "metadata": {},
   "outputs": [
    {
     "data": {
      "text/plain": [
       "2.5"
      ]
     },
     "execution_count": 3,
     "metadata": {},
     "output_type": "execute_result"
    }
   ],
   "source": [
    "a/b #floating division"
   ]
  },
  {
   "cell_type": "code",
   "execution_count": 4,
   "id": "f01c2fd9",
   "metadata": {},
   "outputs": [
    {
     "data": {
      "text/plain": [
       "2"
      ]
     },
     "execution_count": 4,
     "metadata": {},
     "output_type": "execute_result"
    }
   ],
   "source": [
    "a//b #Integer division"
   ]
  },
  {
   "cell_type": "code",
   "execution_count": 5,
   "id": "e3094cbf",
   "metadata": {},
   "outputs": [
    {
     "data": {
      "text/plain": [
       "10000"
      ]
     },
     "execution_count": 5,
     "metadata": {},
     "output_type": "execute_result"
    }
   ],
   "source": [
    "a**b #exponent"
   ]
  },
  {
   "cell_type": "code",
   "execution_count": 6,
   "id": "1a709593",
   "metadata": {},
   "outputs": [
    {
     "data": {
      "text/plain": [
       "2"
      ]
     },
     "execution_count": 6,
     "metadata": {},
     "output_type": "execute_result"
    }
   ],
   "source": [
    "a%b"
   ]
  },
  {
   "cell_type": "code",
   "execution_count": 7,
   "id": "24c4c554",
   "metadata": {},
   "outputs": [
    {
     "data": {
      "text/plain": [
       "1"
      ]
     },
     "execution_count": 7,
     "metadata": {},
     "output_type": "execute_result"
    }
   ],
   "source": [
    "2*3//4"
   ]
  },
  {
   "cell_type": "code",
   "execution_count": 8,
   "id": "2ab1f73b",
   "metadata": {},
   "outputs": [],
   "source": [
    "# **\n",
    "# * / % left to right \n",
    "# + - Left to right"
   ]
  },
  {
   "cell_type": "code",
   "execution_count": 10,
   "id": "040ebe03",
   "metadata": {},
   "outputs": [
    {
     "data": {
      "text/plain": [
       "24"
      ]
     },
     "execution_count": 10,
     "metadata": {},
     "output_type": "execute_result"
    }
   ],
   "source": [
    "#Simple Interest to lower integer\n",
    "p=100\n",
    "r=12\n",
    "t=2\n",
    "si=(p*r*t)//100\n",
    "si"
   ]
  },
  {
   "cell_type": "code",
   "execution_count": 13,
   "id": "120e5097",
   "metadata": {},
   "outputs": [
    {
     "name": "stdout",
     "output_type": "stream",
     "text": [
      "37.77777777777778\n",
      "In Integer\n",
      "37\n"
     ]
    }
   ],
   "source": [
    "#fah to celcius\n",
    "f=100\n",
    "ci=(f-32)*5/9\n",
    "print(ci)\n",
    "print(\"In Integer\")\n",
    "c=(f-32)*5//9\n",
    "print(c)"
   ]
  },
  {
   "cell_type": "markdown",
   "id": "67e9208b",
   "metadata": {},
   "source": [
    "### Taking Input"
   ]
  },
  {
   "cell_type": "markdown",
   "id": "fb696c82",
   "metadata": {},
   "source": [
    "Adding Two integer values"
   ]
  },
  {
   "cell_type": "code",
   "execution_count": 14,
   "id": "18eebb4b",
   "metadata": {},
   "outputs": [
    {
     "name": "stdout",
     "output_type": "stream",
     "text": [
      "23\n",
      "47\n",
      "70\n"
     ]
    }
   ],
   "source": [
    "a=int(input())\n",
    "b=int(input())\n",
    "sum=a+b\n",
    "print(sum)"
   ]
  },
  {
   "cell_type": "markdown",
   "id": "d5cb7969",
   "metadata": {},
   "source": [
    "Adding two float numbers"
   ]
  },
  {
   "cell_type": "code",
   "execution_count": 15,
   "id": "6943f0ec",
   "metadata": {},
   "outputs": [
    {
     "name": "stdout",
     "output_type": "stream",
     "text": [
      "3.4\n",
      "5\n",
      "8.4\n"
     ]
    }
   ],
   "source": [
    "a=float(input())\n",
    "b=float(input())\n",
    "sum=a+b\n",
    "print(a+b)"
   ]
  },
  {
   "cell_type": "markdown",
   "id": "c27b5379",
   "metadata": {},
   "source": [
    "Assignment : Average marks of three integer"
   ]
  },
  {
   "cell_type": "code",
   "execution_count": 17,
   "id": "868669d7",
   "metadata": {},
   "outputs": [
    {
     "name": "stdout",
     "output_type": "stream",
     "text": [
      "6\n",
      "8\n",
      "9\n",
      "7.666666666666667\n"
     ]
    }
   ],
   "source": [
    "a=int(input())\n",
    "b=int(input())\n",
    "c=int(input())\n",
    "Average=(a+b+c)/3\n",
    "print(Average)"
   ]
  },
  {
   "cell_type": "markdown",
   "id": "da06a2be",
   "metadata": {},
   "source": [
    "Simple Interest by taking input"
   ]
  },
  {
   "cell_type": "code",
   "execution_count": 18,
   "id": "f6068ad6",
   "metadata": {},
   "outputs": [
    {
     "name": "stdout",
     "output_type": "stream",
     "text": [
      "100\n",
      "12.5\n",
      "2\n",
      "25.0\n",
      "Integer value\n",
      "25.0\n"
     ]
    }
   ],
   "source": [
    "p=int(input())\n",
    "r=float(input())\n",
    "t=int(input())\n",
    "si=(p*r*t)/100\n",
    "print(si)\n",
    "s=(p*r*t)//100\n",
    "print(\"Integer value\")\n",
    "print(s)"
   ]
  },
  {
   "cell_type": "markdown",
   "id": "8d568c4e",
   "metadata": {},
   "source": [
    "### Assignment"
   ]
  },
  {
   "cell_type": "markdown",
   "id": "76357b01",
   "metadata": {},
   "source": [
    "X to power N"
   ]
  },
  {
   "cell_type": "code",
   "execution_count": 19,
   "id": "4047e10c",
   "metadata": {},
   "outputs": [
    {
     "name": "stdout",
     "output_type": "stream",
     "text": [
      "10\n",
      "2\n",
      "100\n"
     ]
    }
   ],
   "source": [
    "X=int(input())\n",
    "N=int(input())\n",
    "print(X**N)"
   ]
  },
  {
   "cell_type": "markdown",
   "id": "8a535628",
   "metadata": {},
   "source": [
    "Calculate common difference"
   ]
  },
  {
   "cell_type": "code",
   "execution_count": 20,
   "id": "b7cd73fa",
   "metadata": {},
   "outputs": [
    {
     "name": "stdout",
     "output_type": "stream",
     "text": [
      "1\n",
      "3\n",
      "5\n",
      "2\n"
     ]
    }
   ],
   "source": [
    "a=int(input())\n",
    "b=int(input())\n",
    "c=int(input())\n",
    "cd=c-b\n",
    "print(cd)"
   ]
  },
  {
   "cell_type": "markdown",
   "id": "e2536d83",
   "metadata": {},
   "source": [
    "Rectangular Area problem"
   ]
  },
  {
   "cell_type": "code",
   "execution_count": 21,
   "id": "3ce4bf0a",
   "metadata": {},
   "outputs": [
    {
     "name": "stdout",
     "output_type": "stream",
     "text": [
      "1\n",
      "3\n",
      "1\n",
      "3\n",
      "4\n"
     ]
    }
   ],
   "source": [
    "x1=int(input())\n",
    "x2=int(input())\n",
    "y1=int(input())\n",
    "y2=int(input())\n",
    "l=x2-x1\n",
    "b=y2-y1\n",
    "area=l*b\n",
    "print(area)"
   ]
  },
  {
   "cell_type": "markdown",
   "id": "0ecfc3e8",
   "metadata": {},
   "source": [
    " farenheit to Celcius input"
   ]
  },
  {
   "cell_type": "code",
   "execution_count": 26,
   "id": "1f8faada",
   "metadata": {},
   "outputs": [
    {
     "name": "stdout",
     "output_type": "stream",
     "text": [
      "100.5\n",
      "38.05555555555556\n",
      "In Integer\n",
      "38.0\n"
     ]
    }
   ],
   "source": [
    "f=float(input())\n",
    "ci=(f-32)*5/9\n",
    "print(ci)\n",
    "print(\"In Integer\")\n",
    "c=(f-32)*5//9\n",
    "print(c)"
   ]
  },
  {
   "cell_type": "code",
   "execution_count": null,
   "id": "d7c7b4c0",
   "metadata": {},
   "outputs": [],
   "source": []
  }
 ],
 "metadata": {
  "kernelspec": {
   "display_name": "Python 3 (ipykernel)",
   "language": "python",
   "name": "python3"
  },
  "language_info": {
   "codemirror_mode": {
    "name": "ipython",
    "version": 3
   },
   "file_extension": ".py",
   "mimetype": "text/x-python",
   "name": "python",
   "nbconvert_exporter": "python",
   "pygments_lexer": "ipython3",
   "version": "3.10.9"
  }
 },
 "nbformat": 4,
 "nbformat_minor": 5
}
